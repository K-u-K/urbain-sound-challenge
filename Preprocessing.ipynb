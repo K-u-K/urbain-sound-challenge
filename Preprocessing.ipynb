{
  "nbformat": 4,
  "nbformat_minor": 0,
  "metadata": {
    "colab": {
      "name": "Preprocessing.ipynb",
      "provenance": [],
      "collapsed_sections": []
    },
    "kernelspec": {
      "name": "python3",
      "display_name": "Python 3"
    }
  },
  "cells": [
    {
      "cell_type": "code",
      "metadata": {
        "id": "uqzmultuxL75",
        "colab_type": "code",
        "colab": {}
      },
      "source": [
        "%%bash\n",
        "pip install librosa"
      ],
      "execution_count": 0,
      "outputs": []
    },
    {
      "cell_type": "code",
      "metadata": {
        "id": "H1xLmSTatlPO",
        "colab_type": "code",
        "colab": {}
      },
      "source": [
        "import os\n",
        "from random import shuffle\n",
        "\n",
        "import numpy as np\n",
        "import pandas as pd\n",
        "from keras.utils import np_utils\n",
        "from sklearn.preprocessing import LabelEncoder\n",
        "\n",
        "import librosa as rosa"
      ],
      "execution_count": 0,
      "outputs": []
    },
    {
      "cell_type": "code",
      "metadata": {
        "id": "lCCc6lC5ucs9",
        "colab_type": "code",
        "colab": {}
      },
      "source": [
        "from google.colab import drive\n",
        "drive.mount('/content/drive')"
      ],
      "execution_count": 0,
      "outputs": []
    },
    {
      "cell_type": "code",
      "metadata": {
        "id": "rwzS-7WPuK3L",
        "colab_type": "code",
        "colab": {}
      },
      "source": [
        "directory = \"drive/My Drive/UE_Proell\"\n",
        "res_type = \"kaiser_fast\"\n",
        "n_mfcc = 40\n",
        "\n",
        "preprocessed = f\"{directory}/preprocessed\"\n",
        "os.makedirs(preprocessed, exist_ok=True)"
      ],
      "execution_count": 0,
      "outputs": []
    },
    {
      "cell_type": "code",
      "metadata": {
        "id": "4k50Jqgb6xif",
        "colab_type": "code",
        "colab": {}
      },
      "source": [
        "train = pd.read_csv(f\"{directory}/data/train_long.csv\", sep=\",\")\n",
        "test = pd.read_csv(f\"{directory}/data/test.csv\", sep=\",\")\n",
        "\n",
        "train.sample(n = 5)"
      ],
      "execution_count": 0,
      "outputs": []
    },
    {
      "cell_type": "code",
      "metadata": {
        "id": "41DxnmHmu4MP",
        "colab_type": "code",
        "colab": {}
      },
      "source": [
        "def feature_extract(row):\n",
        "   # function to load files and extract features\n",
        "   file_name = os.path.join(f\"{directory}/data/urban_sound_files/{row['ID']}.wav\")\n",
        "   if not os.path.exists(file_name):\n",
        "     print(f\"File {file_name} does not exist. Abort...\")\n",
        "     return None, None\n",
        "\n",
        "   # handle exception to check if there isn't a file which is corrupted\n",
        "   try:\n",
        "      # here kaiser_fast is a technique used for faster extraction\n",
        "      X, sample_rate = rosa.load(file_name, res_type=res_type) \n",
        "      # we extract mfcc feature from data\n",
        "      mfccs = np.mean(rosa.feature.mfcc(y=X, sr=sample_rate, n_mfcc=n_mfcc).T, axis=0) \n",
        "      #print(f\"Features extracted for file {row['ID']}.wav\")\n",
        "   except Exception as e:\n",
        "      print(\"Error encountered while parsing file: \", file)\n",
        "      return None, None\n",
        " \n",
        "   feature = mfccs\n",
        "   label = row[\"Class\"]\n",
        " \n",
        "   return [feature, label]"
      ],
      "execution_count": 0,
      "outputs": []
    },
    {
      "cell_type": "code",
      "metadata": {
        "id": "tvdElevRxcC8",
        "colab_type": "code",
        "colab": {}
      },
      "source": [
        "# axis = 0 / per column\n",
        "# axis = 1 / per row\n",
        "\n",
        "train_temp = train.apply(feature_extract, axis=1)\n",
        "print(\"Feature extraction for train data completed.\")\n",
        "test_temp = test.apply(feature_extract, axis=1)\n",
        "print(\"Feature extraction for test data completed.\")"
      ],
      "execution_count": 0,
      "outputs": []
    },
    {
      "cell_type": "code",
      "metadata": {
        "id": "TYeYAKWnxl5D",
        "colab_type": "code",
        "colab": {}
      },
      "source": [
        "train_temp = pd.DataFrame({\"label\": [row[1] for row in train_temp], \"feature\": [row[0] for row in train_temp]})\n",
        "test_temp = pd.DataFrame({\"label\": [row[1] for row in test_temp], \"feature\": [row[0] for row in test_temp]})"
      ],
      "execution_count": 0,
      "outputs": []
    },
    {
      "cell_type": "code",
      "metadata": {
        "id": "5HSAqpWU5zlJ",
        "colab_type": "code",
        "colab": {}
      },
      "source": [
        "def encode(data):\n",
        "  X = np.array(data[\"feature\"].tolist())\n",
        "  y = np.array(data[\"label\"].tolist())\n",
        "\n",
        "  lb = LabelEncoder()\n",
        "  y = np_utils.to_categorical(lb.fit_transform(y))\n",
        "\n",
        "  return [X, y]\n",
        "\n",
        "X_train, y_train = encode(train_temp)\n",
        "X_test, y_test = encode(test_temp)"
      ],
      "execution_count": 0,
      "outputs": []
    },
    {
      "cell_type": "code",
      "metadata": {
        "id": "Edu8JCPI6Wz4",
        "colab_type": "code",
        "colab": {}
      },
      "source": [
        "np.save(f\"{preprocessed}/X_train\", X_train)\n",
        "np.save(f\"{preprocessed}/X_test\", X_test)\n",
        "np.save(f\"{preprocessed}/y_train\", y_train)\n",
        "np.save(f\"{preprocessed}/y_test\", y_test)"
      ],
      "execution_count": 0,
      "outputs": []
    },
    {
      "cell_type": "code",
      "metadata": {
        "id": "QfhAlnNDwrUt",
        "colab_type": "code",
        "colab": {}
      },
      "source": [
        ""
      ],
      "execution_count": 0,
      "outputs": []
    }
  ]
}